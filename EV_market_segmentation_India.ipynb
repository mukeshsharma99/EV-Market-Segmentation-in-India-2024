{
 "cells": [
  {
   "cell_type": "code",
   "execution_count": 1,
   "metadata": {},
   "outputs": [],
   "source": [
    "import numpy as np\n",
    "import pandas as pd\n",
    "import matplotlib.pyplot as plt\n",
    "import seaborn as sns\n",
    "import warnings\n",
    "warnings.filterwarnings('ignore')"
   ]
  },
  {
   "cell_type": "code",
   "execution_count": null,
   "metadata": {},
   "outputs": [],
   "source": [
    "df = pd.read_csv(r'EV_market_segmentation_India.csv') "
   ]
  },
  {
   "cell_type": "code",
   "execution_count": 3,
   "metadata": {},
   "outputs": [
    {
     "data": {
      "text/plain": [
       "(600, 11)"
      ]
     },
     "execution_count": 3,
     "metadata": {},
     "output_type": "execute_result"
    }
   ],
   "source": [
    "df.shape"
   ]
  },
  {
   "cell_type": "code",
   "execution_count": 4,
   "metadata": {},
   "outputs": [
    {
     "data": {
      "text/html": [
       "<div>\n",
       "<style scoped>\n",
       "    .dataframe tbody tr th:only-of-type {\n",
       "        vertical-align: middle;\n",
       "    }\n",
       "\n",
       "    .dataframe tbody tr th {\n",
       "        vertical-align: top;\n",
       "    }\n",
       "\n",
       "    .dataframe thead th {\n",
       "        text-align: right;\n",
       "    }\n",
       "</style>\n",
       "<table border=\"1\" class=\"dataframe\">\n",
       "  <thead>\n",
       "    <tr style=\"text-align: right;\">\n",
       "      <th></th>\n",
       "      <th>City</th>\n",
       "      <th>State</th>\n",
       "      <th>Income Group</th>\n",
       "      <th>Age Group</th>\n",
       "      <th>Daily Commute (km)</th>\n",
       "      <th>EV Awareness Score</th>\n",
       "      <th>Charging Stations Density (per 100 sq km)</th>\n",
       "      <th>Preferred EV Type</th>\n",
       "      <th>Govt Incentive Awareness</th>\n",
       "      <th>EV Sales (2024)</th>\n",
       "      <th>ICE to EV Switch (%)</th>\n",
       "    </tr>\n",
       "  </thead>\n",
       "  <tbody>\n",
       "    <tr>\n",
       "      <th>0</th>\n",
       "      <td>Bengaluru</td>\n",
       "      <td>Karnataka</td>\n",
       "      <td>Low</td>\n",
       "      <td>26-35</td>\n",
       "      <td>21</td>\n",
       "      <td>5.1</td>\n",
       "      <td>5</td>\n",
       "      <td>Commercial EV</td>\n",
       "      <td>No</td>\n",
       "      <td>3877</td>\n",
       "      <td>13.5</td>\n",
       "    </tr>\n",
       "    <tr>\n",
       "      <th>1</th>\n",
       "      <td>Bengaluru</td>\n",
       "      <td>Karnataka</td>\n",
       "      <td>Low</td>\n",
       "      <td>18-25</td>\n",
       "      <td>22</td>\n",
       "      <td>5.2</td>\n",
       "      <td>14</td>\n",
       "      <td>4-wheeler</td>\n",
       "      <td>Yes</td>\n",
       "      <td>14633</td>\n",
       "      <td>14.4</td>\n",
       "    </tr>\n",
       "    <tr>\n",
       "      <th>2</th>\n",
       "      <td>Bengaluru</td>\n",
       "      <td>Karnataka</td>\n",
       "      <td>High</td>\n",
       "      <td>18-25</td>\n",
       "      <td>6</td>\n",
       "      <td>8.7</td>\n",
       "      <td>17</td>\n",
       "      <td>2-wheeler</td>\n",
       "      <td>No</td>\n",
       "      <td>11330</td>\n",
       "      <td>9.1</td>\n",
       "    </tr>\n",
       "    <tr>\n",
       "      <th>3</th>\n",
       "      <td>Bengaluru</td>\n",
       "      <td>Karnataka</td>\n",
       "      <td>Mid</td>\n",
       "      <td>26-35</td>\n",
       "      <td>7</td>\n",
       "      <td>8.8</td>\n",
       "      <td>3</td>\n",
       "      <td>2-wheeler</td>\n",
       "      <td>No</td>\n",
       "      <td>10460</td>\n",
       "      <td>18.0</td>\n",
       "    </tr>\n",
       "    <tr>\n",
       "      <th>4</th>\n",
       "      <td>Bengaluru</td>\n",
       "      <td>Karnataka</td>\n",
       "      <td>Mid</td>\n",
       "      <td>50+</td>\n",
       "      <td>40</td>\n",
       "      <td>5.3</td>\n",
       "      <td>13</td>\n",
       "      <td>2-wheeler</td>\n",
       "      <td>Yes</td>\n",
       "      <td>5235</td>\n",
       "      <td>6.0</td>\n",
       "    </tr>\n",
       "  </tbody>\n",
       "</table>\n",
       "</div>"
      ],
      "text/plain": [
       "        City      State Income Group Age Group  Daily Commute (km)  \\\n",
       "0  Bengaluru  Karnataka          Low     26-35                  21   \n",
       "1  Bengaluru  Karnataka          Low     18-25                  22   \n",
       "2  Bengaluru  Karnataka         High     18-25                   6   \n",
       "3  Bengaluru  Karnataka          Mid     26-35                   7   \n",
       "4  Bengaluru  Karnataka          Mid       50+                  40   \n",
       "\n",
       "   EV Awareness Score  Charging Stations Density (per 100 sq km)  \\\n",
       "0                 5.1                                          5   \n",
       "1                 5.2                                         14   \n",
       "2                 8.7                                         17   \n",
       "3                 8.8                                          3   \n",
       "4                 5.3                                         13   \n",
       "\n",
       "  Preferred EV Type Govt Incentive Awareness  EV Sales (2024)  \\\n",
       "0     Commercial EV                       No             3877   \n",
       "1         4-wheeler                      Yes            14633   \n",
       "2         2-wheeler                       No            11330   \n",
       "3         2-wheeler                       No            10460   \n",
       "4         2-wheeler                      Yes             5235   \n",
       "\n",
       "   ICE to EV Switch (%)  \n",
       "0                  13.5  \n",
       "1                  14.4  \n",
       "2                   9.1  \n",
       "3                  18.0  \n",
       "4                   6.0  "
      ]
     },
     "execution_count": 4,
     "metadata": {},
     "output_type": "execute_result"
    }
   ],
   "source": [
    "df.head()"
   ]
  },
  {
   "cell_type": "code",
   "execution_count": 8,
   "metadata": {},
   "outputs": [
    {
     "data": {
      "text/html": [
       "<div>\n",
       "<style scoped>\n",
       "    .dataframe tbody tr th:only-of-type {\n",
       "        vertical-align: middle;\n",
       "    }\n",
       "\n",
       "    .dataframe tbody tr th {\n",
       "        vertical-align: top;\n",
       "    }\n",
       "\n",
       "    .dataframe thead th {\n",
       "        text-align: right;\n",
       "    }\n",
       "</style>\n",
       "<table border=\"1\" class=\"dataframe\">\n",
       "  <thead>\n",
       "    <tr style=\"text-align: right;\">\n",
       "      <th></th>\n",
       "      <th>City</th>\n",
       "      <th>State</th>\n",
       "      <th>Income Group</th>\n",
       "      <th>Age Group</th>\n",
       "      <th>Daily Commute (km)</th>\n",
       "      <th>EV Awareness Score</th>\n",
       "      <th>Charging Stations Density (per 100 sq km)</th>\n",
       "      <th>Preferred EV Type</th>\n",
       "      <th>Govt Incentive Awareness</th>\n",
       "      <th>EV Sales (2024)</th>\n",
       "      <th>ICE to EV Switch (%)</th>\n",
       "    </tr>\n",
       "  </thead>\n",
       "  <tbody>\n",
       "    <tr>\n",
       "      <th>595</th>\n",
       "      <td>Surat</td>\n",
       "      <td>Gujarat</td>\n",
       "      <td>Mid</td>\n",
       "      <td>18-25</td>\n",
       "      <td>37</td>\n",
       "      <td>9.3</td>\n",
       "      <td>13</td>\n",
       "      <td>2-wheeler</td>\n",
       "      <td>No</td>\n",
       "      <td>14213</td>\n",
       "      <td>19.5</td>\n",
       "    </tr>\n",
       "    <tr>\n",
       "      <th>596</th>\n",
       "      <td>Surat</td>\n",
       "      <td>Gujarat</td>\n",
       "      <td>High</td>\n",
       "      <td>36-50</td>\n",
       "      <td>36</td>\n",
       "      <td>7.1</td>\n",
       "      <td>6</td>\n",
       "      <td>4-wheeler</td>\n",
       "      <td>No</td>\n",
       "      <td>13149</td>\n",
       "      <td>15.8</td>\n",
       "    </tr>\n",
       "    <tr>\n",
       "      <th>597</th>\n",
       "      <td>Surat</td>\n",
       "      <td>Gujarat</td>\n",
       "      <td>High</td>\n",
       "      <td>26-35</td>\n",
       "      <td>12</td>\n",
       "      <td>5.7</td>\n",
       "      <td>12</td>\n",
       "      <td>4-wheeler</td>\n",
       "      <td>Yes</td>\n",
       "      <td>5801</td>\n",
       "      <td>13.9</td>\n",
       "    </tr>\n",
       "    <tr>\n",
       "      <th>598</th>\n",
       "      <td>Surat</td>\n",
       "      <td>Gujarat</td>\n",
       "      <td>High</td>\n",
       "      <td>18-25</td>\n",
       "      <td>34</td>\n",
       "      <td>5.3</td>\n",
       "      <td>17</td>\n",
       "      <td>2-wheeler</td>\n",
       "      <td>No</td>\n",
       "      <td>3641</td>\n",
       "      <td>19.5</td>\n",
       "    </tr>\n",
       "    <tr>\n",
       "      <th>599</th>\n",
       "      <td>Surat</td>\n",
       "      <td>Gujarat</td>\n",
       "      <td>High</td>\n",
       "      <td>50+</td>\n",
       "      <td>16</td>\n",
       "      <td>5.3</td>\n",
       "      <td>15</td>\n",
       "      <td>Commercial EV</td>\n",
       "      <td>Yes</td>\n",
       "      <td>11574</td>\n",
       "      <td>13.9</td>\n",
       "    </tr>\n",
       "  </tbody>\n",
       "</table>\n",
       "</div>"
      ],
      "text/plain": [
       "      City    State Income Group Age Group  Daily Commute (km)  \\\n",
       "595  Surat  Gujarat          Mid     18-25                  37   \n",
       "596  Surat  Gujarat         High     36-50                  36   \n",
       "597  Surat  Gujarat         High     26-35                  12   \n",
       "598  Surat  Gujarat         High     18-25                  34   \n",
       "599  Surat  Gujarat         High       50+                  16   \n",
       "\n",
       "     EV Awareness Score  Charging Stations Density (per 100 sq km)  \\\n",
       "595                 9.3                                         13   \n",
       "596                 7.1                                          6   \n",
       "597                 5.7                                         12   \n",
       "598                 5.3                                         17   \n",
       "599                 5.3                                         15   \n",
       "\n",
       "    Preferred EV Type Govt Incentive Awareness  EV Sales (2024)  \\\n",
       "595         2-wheeler                       No            14213   \n",
       "596         4-wheeler                       No            13149   \n",
       "597         4-wheeler                      Yes             5801   \n",
       "598         2-wheeler                       No             3641   \n",
       "599     Commercial EV                      Yes            11574   \n",
       "\n",
       "     ICE to EV Switch (%)  \n",
       "595                  19.5  \n",
       "596                  15.8  \n",
       "597                  13.9  \n",
       "598                  19.5  \n",
       "599                  13.9  "
      ]
     },
     "execution_count": 8,
     "metadata": {},
     "output_type": "execute_result"
    }
   ],
   "source": [
    "df.tail()"
   ]
  },
  {
   "cell_type": "code",
   "execution_count": 5,
   "metadata": {},
   "outputs": [
    {
     "data": {
      "text/plain": [
       "City                                          object\n",
       "State                                         object\n",
       "Income Group                                  object\n",
       "Age Group                                     object\n",
       "Daily Commute (km)                             int64\n",
       "EV Awareness Score                           float64\n",
       "Charging Stations Density (per 100 sq km)      int64\n",
       "Preferred EV Type                             object\n",
       "Govt Incentive Awareness                      object\n",
       "EV Sales (2024)                                int64\n",
       "ICE to EV Switch (%)                         float64\n",
       "dtype: object"
      ]
     },
     "execution_count": 5,
     "metadata": {},
     "output_type": "execute_result"
    }
   ],
   "source": [
    "df.dtypes"
   ]
  },
  {
   "cell_type": "code",
   "execution_count": 6,
   "metadata": {},
   "outputs": [
    {
     "name": "stdout",
     "output_type": "stream",
     "text": [
      "<class 'pandas.core.frame.DataFrame'>\n",
      "RangeIndex: 600 entries, 0 to 599\n",
      "Data columns (total 11 columns):\n",
      " #   Column                                     Non-Null Count  Dtype  \n",
      "---  ------                                     --------------  -----  \n",
      " 0   City                                       600 non-null    object \n",
      " 1   State                                      600 non-null    object \n",
      " 2   Income Group                               600 non-null    object \n",
      " 3   Age Group                                  600 non-null    object \n",
      " 4   Daily Commute (km)                         600 non-null    int64  \n",
      " 5   EV Awareness Score                         600 non-null    float64\n",
      " 6   Charging Stations Density (per 100 sq km)  600 non-null    int64  \n",
      " 7   Preferred EV Type                          600 non-null    object \n",
      " 8   Govt Incentive Awareness                   600 non-null    object \n",
      " 9   EV Sales (2024)                            600 non-null    int64  \n",
      " 10  ICE to EV Switch (%)                       600 non-null    float64\n",
      "dtypes: float64(2), int64(3), object(6)\n",
      "memory usage: 51.7+ KB\n"
     ]
    }
   ],
   "source": [
    "df.info()"
   ]
  },
  {
   "cell_type": "code",
   "execution_count": 7,
   "metadata": {},
   "outputs": [
    {
     "data": {
      "text/plain": [
       "Index(['City', 'State', 'Income Group', 'Age Group', 'Daily Commute (km)',\n",
       "       'EV Awareness Score', 'Charging Stations Density (per 100 sq km)',\n",
       "       'Preferred EV Type', 'Govt Incentive Awareness', 'EV Sales (2024)',\n",
       "       'ICE to EV Switch (%)'],\n",
       "      dtype='object')"
      ]
     },
     "execution_count": 7,
     "metadata": {},
     "output_type": "execute_result"
    }
   ],
   "source": [
    "df.columns"
   ]
  },
  {
   "cell_type": "code",
   "execution_count": null,
   "metadata": {},
   "outputs": [
    {
     "data": {
      "text/plain": [
       "City                                         0\n",
       "State                                        0\n",
       "Income Group                                 0\n",
       "Age Group                                    0\n",
       "Daily Commute (km)                           0\n",
       "EV Awareness Score                           0\n",
       "Charging Stations Density (per 100 sq km)    0\n",
       "Preferred EV Type                            0\n",
       "Govt Incentive Awareness                     0\n",
       "EV Sales (2024)                              0\n",
       "ICE to EV Switch (%)                         0\n",
       "dtype: int64"
      ]
     },
     "execution_count": 10,
     "metadata": {},
     "output_type": "execute_result"
    }
   ],
   "source": [
    "df.isnull().sum()"
   ]
  },
  {
   "cell_type": "code",
   "execution_count": null,
   "metadata": {},
   "outputs": [],
   "source": []
  }
 ],
 "metadata": {
  "kernelspec": {
   "display_name": "Python 3",
   "language": "python",
   "name": "python3"
  },
  "language_info": {
   "codemirror_mode": {
    "name": "ipython",
    "version": 3
   },
   "file_extension": ".py",
   "mimetype": "text/x-python",
   "name": "python",
   "nbconvert_exporter": "python",
   "pygments_lexer": "ipython3",
   "version": "3.13.2"
  }
 },
 "nbformat": 4,
 "nbformat_minor": 2
}
